{
 "cells": [
  {
   "cell_type": "code",
   "execution_count": null,
   "metadata": {},
   "outputs": [],
   "source": [
    "# we have images 28x28 pixels that we will transorm into matrices\n",
    "# 0 -> completely black\n",
    "#255 -> completely black"
   ]
  },
  {
   "cell_type": "code",
   "execution_count": 29,
   "metadata": {},
   "outputs": [],
   "source": [
    "#let's import our libraries\n",
    "\n",
    "import numpy as np\n",
    "import pandas as pd \n",
    "from matplotlib import pyplot as plt"
   ]
  },
  {
   "cell_type": "code",
   "execution_count": 36,
   "metadata": {},
   "outputs": [],
   "source": [
    "data = pd.read_csv(\"train.csv\")"
   ]
  },
  {
   "cell_type": "code",
   "execution_count": 37,
   "metadata": {},
   "outputs": [],
   "source": [
    "data = np.array(data)\n",
    "m, n = data.shape\n",
    "np.random.shuffle(data)\n",
    "data_dev  = data[0:1000].T #now every string is 785 columns , before that every pixel was a column\n",
    "Y_dev = data_dev[0]\n",
    "X_dev = data_dev[1:n]\n",
    "X_dev = X_dev / 255.\n",
    "\n",
    "data_train = data[1000:m].T\n",
    "Y_train = data_train[0]\n",
    "X_train = data_train[1:n]\n",
    "X_train = X_train / 255.\n",
    "_,m_train = X_train.shape"
   ]
  },
  {
   "cell_type": "code",
   "execution_count": 38,
   "metadata": {},
   "outputs": [],
   "source": [
    "def init_params():\n",
    "    W1 = np.random.rand(10, 784) - 0.5 #our first matrice layer_0 -> layer_1\n",
    "    b1 = np.random.rand(10, 1) - 0.5\n",
    "    W2 = np.random.rand(10, 10) - 0.5 #our second matrice layer_1 -> layer_2\n",
    "    b2 = np.random.rand(10, 1) - 0.5\n",
    "    return W1, b1, W2, b2\n",
    "\n",
    "def ReLU(Z): # it goes trough Z and return Z if it's greater than zero\n",
    "    return np.maximum(Z, 0)\n",
    "\n",
    "def softmax(Z):  # if you want to understand these lines check https://ru.wikipedia.org/wiki/Softmax\n",
    "    A = np.exp(Z) / sum(np.exp(Z))\n",
    "    return A\n",
    "    \n",
    "def forward_prop(W1, b1, W2, b2, X):\n",
    "    Z1 = W1.dot(X) + b1 # these are values that will go into layer_1\n",
    "    A1 = ReLU(Z1) # it is layer_1\n",
    "    Z2 = W2.dot(A1) + b2  # these are values that will go into output\n",
    "    A2 = softmax(Z2) #it is output\n",
    "    return Z1, A1, Z2, A2\n",
    "\n",
    "def ReLU_deriv(Z):\n",
    "    return Z > 0\n",
    "\n",
    "def one_hot(Y):\n",
    "    one_hot_Y = np.zeros((Y.size, Y.max() + 1))\n",
    "    one_hot_Y[np.arange(Y.size), Y] = 1\n",
    "    one_hot_Y = one_hot_Y.T\n",
    "    return one_hot_Y\n",
    "\n",
    "def backward_prop(Z1, A1, Z2, A2, W1, W2, X, Y):\n",
    "    one_hot_Y = one_hot(Y)\n",
    "    dZ2 = A2 - one_hot_Y\n",
    "    dW2 = 1 / m * dZ2.dot(A1.T)\n",
    "    db2 = 1 / m * np.sum(dZ2)\n",
    "    dZ1 = W2.T.dot(dZ2) * ReLU_deriv(Z1)\n",
    "    dW1 = 1 / m * dZ1.dot(X.T)\n",
    "    db1 = 1 / m * np.sum(dZ1)\n",
    "    return dW1, db1, dW2, db2\n",
    "\n",
    "def update_params(W1, b1, W2, b2, dW1, db1, dW2, db2, alpha):\n",
    "    W1 = W1 - alpha * dW1\n",
    "    b1 = b1 - alpha * db1    \n",
    "    W2 = W2 - alpha * dW2  \n",
    "    b2 = b2 - alpha * db2    \n",
    "    return W1, b1, W2, b2\n"
   ]
  },
  {
   "cell_type": "code",
   "execution_count": 39,
   "metadata": {},
   "outputs": [],
   "source": [
    "def get_predictions(A2):\n",
    "    return np.argmax(A2, 0)\n",
    "\n",
    "def get_accuracy(predictions, Y):\n",
    "    print(predictions, Y)\n",
    "    return np.sum(predictions == Y) / Y.size\n",
    "\n",
    "def gradient_descent(X, Y, alpha, iterations):\n",
    "    W1, b1, W2, b2 = init_params()\n",
    "    for i in range(iterations):\n",
    "        Z1, A1, Z2, A2 = forward_prop(W1, b1, W2, b2, X)\n",
    "        dW1, db1, dW2, db2 = backward_prop(Z1, A1, Z2, A2, W1, W2, X, Y)\n",
    "        W1, b1, W2, b2 = update_params(W1, b1, W2, b2, dW1, db1, dW2, db2, alpha)\n",
    "        if i % 10 == 0:\n",
    "            print(\"Iteration: \", i)\n",
    "            predictions = get_predictions(A2)\n",
    "            print(get_accuracy(predictions, Y))\n",
    "    return W1, b1, W2, b2\n"
   ]
  },
  {
   "cell_type": "code",
   "execution_count": 42,
   "metadata": {},
   "outputs": [
    {
     "name": "stdout",
     "output_type": "stream",
     "text": [
      "Iteration:  0\n",
      "[4 5 5 ... 5 5 5] [1 3 4 ... 1 5 7]\n",
      "0.106\n",
      "Iteration:  10\n",
      "[4 3 5 ... 4 4 7] [1 3 4 ... 1 5 7]\n",
      "0.13817073170731708\n",
      "Iteration:  20\n",
      "[4 3 5 ... 4 4 7] [1 3 4 ... 1 5 7]\n",
      "0.2116341463414634\n",
      "Iteration:  30\n",
      "[1 3 5 ... 4 4 7] [1 3 4 ... 1 5 7]\n",
      "0.29734146341463413\n",
      "Iteration:  40\n",
      "[1 3 5 ... 1 4 7] [1 3 4 ... 1 5 7]\n",
      "0.369390243902439\n",
      "Iteration:  50\n",
      "[1 3 5 ... 1 4 7] [1 3 4 ... 1 5 7]\n",
      "0.4555365853658537\n",
      "Iteration:  60\n",
      "[1 3 5 ... 1 6 7] [1 3 4 ... 1 5 7]\n",
      "0.5178048780487805\n",
      "Iteration:  70\n",
      "[1 3 5 ... 1 6 7] [1 3 4 ... 1 5 7]\n",
      "0.5591707317073171\n",
      "Iteration:  80\n",
      "[1 3 5 ... 1 6 7] [1 3 4 ... 1 5 7]\n",
      "0.592609756097561\n",
      "Iteration:  90\n",
      "[1 3 5 ... 1 6 7] [1 3 4 ... 1 5 7]\n",
      "0.6207073170731707\n",
      "Iteration:  100\n",
      "[1 3 5 ... 1 6 7] [1 3 4 ... 1 5 7]\n",
      "0.6462926829268293\n",
      "Iteration:  110\n",
      "[1 3 5 ... 1 6 7] [1 3 4 ... 1 5 7]\n",
      "0.6678780487804878\n",
      "Iteration:  120\n",
      "[1 3 9 ... 1 6 7] [1 3 4 ... 1 5 7]\n",
      "0.6871707317073171\n",
      "Iteration:  130\n",
      "[1 3 9 ... 1 6 7] [1 3 4 ... 1 5 7]\n",
      "0.7041463414634146\n",
      "Iteration:  140\n",
      "[1 3 9 ... 1 6 7] [1 3 4 ... 1 5 7]\n",
      "0.718170731707317\n",
      "Iteration:  150\n",
      "[1 3 9 ... 1 6 7] [1 3 4 ... 1 5 7]\n",
      "0.7313658536585366\n",
      "Iteration:  160\n",
      "[1 3 4 ... 1 6 7] [1 3 4 ... 1 5 7]\n",
      "0.7414634146341463\n",
      "Iteration:  170\n",
      "[1 3 4 ... 1 6 7] [1 3 4 ... 1 5 7]\n",
      "0.7508536585365854\n",
      "Iteration:  180\n",
      "[1 3 4 ... 1 6 7] [1 3 4 ... 1 5 7]\n",
      "0.7595853658536585\n",
      "Iteration:  190\n",
      "[1 3 4 ... 1 6 7] [1 3 4 ... 1 5 7]\n",
      "0.7660243902439025\n",
      "Iteration:  200\n",
      "[1 3 4 ... 1 6 7] [1 3 4 ... 1 5 7]\n",
      "0.772829268292683\n",
      "Iteration:  210\n",
      "[1 3 4 ... 1 6 7] [1 3 4 ... 1 5 7]\n",
      "0.7796829268292683\n",
      "Iteration:  220\n",
      "[1 3 4 ... 1 6 7] [1 3 4 ... 1 5 7]\n",
      "0.7845365853658537\n",
      "Iteration:  230\n",
      "[1 3 4 ... 1 5 7] [1 3 4 ... 1 5 7]\n",
      "0.7895365853658537\n",
      "Iteration:  240\n",
      "[1 3 4 ... 1 5 7] [1 3 4 ... 1 5 7]\n",
      "0.793829268292683\n",
      "Iteration:  250\n",
      "[1 3 4 ... 1 5 7] [1 3 4 ... 1 5 7]\n",
      "0.7975609756097561\n",
      "Iteration:  260\n",
      "[1 3 4 ... 1 5 7] [1 3 4 ... 1 5 7]\n",
      "0.801219512195122\n",
      "Iteration:  270\n",
      "[1 3 4 ... 1 5 7] [1 3 4 ... 1 5 7]\n",
      "0.8051219512195122\n",
      "Iteration:  280\n",
      "[1 3 4 ... 1 5 7] [1 3 4 ... 1 5 7]\n",
      "0.8083902439024391\n",
      "Iteration:  290\n",
      "[1 3 4 ... 1 5 7] [1 3 4 ... 1 5 7]\n",
      "0.8113170731707318\n",
      "Iteration:  300\n",
      "[1 3 4 ... 1 5 7] [1 3 4 ... 1 5 7]\n",
      "0.8141219512195121\n",
      "Iteration:  310\n",
      "[1 3 4 ... 1 5 7] [1 3 4 ... 1 5 7]\n",
      "0.8170731707317073\n",
      "Iteration:  320\n",
      "[1 3 4 ... 1 5 7] [1 3 4 ... 1 5 7]\n",
      "0.8196097560975609\n",
      "Iteration:  330\n",
      "[1 3 4 ... 1 5 7] [1 3 4 ... 1 5 7]\n",
      "0.8219512195121951\n",
      "Iteration:  340\n",
      "[1 3 4 ... 1 5 7] [1 3 4 ... 1 5 7]\n",
      "0.8243658536585365\n",
      "Iteration:  350\n",
      "[1 3 4 ... 1 5 7] [1 3 4 ... 1 5 7]\n",
      "0.8266585365853658\n",
      "Iteration:  360\n",
      "[1 3 4 ... 1 5 7] [1 3 4 ... 1 5 7]\n",
      "0.8291463414634146\n",
      "Iteration:  370\n",
      "[1 3 4 ... 1 5 7] [1 3 4 ... 1 5 7]\n",
      "0.8310487804878048\n",
      "Iteration:  380\n",
      "[1 3 4 ... 1 5 7] [1 3 4 ... 1 5 7]\n",
      "0.8325609756097561\n",
      "Iteration:  390\n",
      "[1 3 4 ... 1 5 7] [1 3 4 ... 1 5 7]\n",
      "0.8340487804878048\n",
      "Iteration:  400\n",
      "[1 3 4 ... 1 5 7] [1 3 4 ... 1 5 7]\n",
      "0.8356829268292683\n",
      "Iteration:  410\n",
      "[1 3 4 ... 1 5 7] [1 3 4 ... 1 5 7]\n",
      "0.8371463414634146\n",
      "Iteration:  420\n",
      "[1 3 4 ... 1 5 7] [1 3 4 ... 1 5 7]\n",
      "0.8386097560975609\n",
      "Iteration:  430\n",
      "[1 3 4 ... 1 5 7] [1 3 4 ... 1 5 7]\n",
      "0.8403170731707317\n",
      "Iteration:  440\n",
      "[1 3 4 ... 1 5 7] [1 3 4 ... 1 5 7]\n",
      "0.8418780487804878\n",
      "Iteration:  450\n",
      "[1 3 4 ... 1 5 7] [1 3 4 ... 1 5 7]\n",
      "0.8435365853658536\n",
      "Iteration:  460\n",
      "[1 3 4 ... 1 5 7] [1 3 4 ... 1 5 7]\n",
      "0.844780487804878\n",
      "Iteration:  470\n",
      "[1 3 4 ... 1 5 7] [1 3 4 ... 1 5 7]\n",
      "0.8460731707317073\n",
      "Iteration:  480\n",
      "[1 3 4 ... 1 5 7] [1 3 4 ... 1 5 7]\n",
      "0.8474390243902439\n",
      "Iteration:  490\n",
      "[1 3 4 ... 1 5 7] [1 3 4 ... 1 5 7]\n",
      "0.8487073170731707\n",
      "Iteration:  500\n",
      "[1 3 4 ... 1 5 7] [1 3 4 ... 1 5 7]\n",
      "0.8493658536585366\n",
      "Iteration:  510\n",
      "[1 3 4 ... 1 5 7] [1 3 4 ... 1 5 7]\n",
      "0.8507073170731707\n",
      "Iteration:  520\n",
      "[1 3 4 ... 1 5 7] [1 3 4 ... 1 5 7]\n",
      "0.8518048780487805\n",
      "Iteration:  530\n",
      "[1 3 4 ... 1 5 7] [1 3 4 ... 1 5 7]\n",
      "0.8528536585365853\n",
      "Iteration:  540\n",
      "[1 3 4 ... 1 5 7] [1 3 4 ... 1 5 7]\n",
      "0.8539512195121951\n",
      "Iteration:  550\n",
      "[1 3 4 ... 1 5 7] [1 3 4 ... 1 5 7]\n",
      "0.8548292682926829\n",
      "Iteration:  560\n",
      "[1 3 4 ... 1 5 7] [1 3 4 ... 1 5 7]\n",
      "0.8557073170731707\n",
      "Iteration:  570\n",
      "[1 3 4 ... 1 5 7] [1 3 4 ... 1 5 7]\n",
      "0.8565853658536585\n",
      "Iteration:  580\n",
      "[1 3 4 ... 1 5 7] [1 3 4 ... 1 5 7]\n",
      "0.8571951219512195\n",
      "Iteration:  590\n",
      "[1 3 4 ... 1 5 7] [1 3 4 ... 1 5 7]\n",
      "0.858\n"
     ]
    }
   ],
   "source": [
    "W1 , b1 , W2 , b2 = gradient_descent(X_train ,  Y_train , 0.1 , 600)"
   ]
  },
  {
   "cell_type": "code",
   "execution_count": null,
   "metadata": {},
   "outputs": [],
   "source": [
    "# 85% Accuracy! Great! "
   ]
  },
  {
   "cell_type": "code",
   "execution_count": 43,
   "metadata": {},
   "outputs": [],
   "source": [
    "def make_predictions(X, W1, b1, W2, b2):\n",
    "    _, _, _, A2 = forward_prop(W1, b1, W2, b2, X) # the first 3 _ are like trash cans , we onle need prediction\n",
    "    predictions = get_predictions(A2)\n",
    "    return predictions\n",
    "\n",
    "def test_prediction(index, W1, b1, W2, b2):\n",
    "    current_image = X_train[:, index, None]\n",
    "    prediction = make_predictions(X_train[:, index, None], W1, b1, W2, b2)\n",
    "    label = Y_train[index]\n",
    "    print(\"Prediction: \", prediction)\n",
    "    print(\"Label: \", label)\n",
    "    \n",
    "    current_image = current_image.reshape((28, 28)) * 255\n",
    "    plt.gray()\n",
    "    plt.imshow(current_image, interpolation='nearest')\n",
    "    plt.show()"
   ]
  },
  {
   "cell_type": "code",
   "execution_count": null,
   "metadata": {},
   "outputs": [],
   "source": [
    "#Let's see on some predictions"
   ]
  },
  {
   "cell_type": "code",
   "execution_count": 44,
   "metadata": {},
   "outputs": [
    {
     "name": "stdout",
     "output_type": "stream",
     "text": [
      "Prediction:  [2]\n",
      "Label:  2\n"
     ]
    },
    {
     "data": {
      "image/png": "[encoded data removed]",
      "text/plain": [
       "<Figure size 432x288 with 1 Axes>"
      ]
     },
     "metadata": {
      "needs_background": "light"
     },
     "output_type": "display_data"
    }
   ],
   "source": [
    "test_prediction(11 , W1 , b1 , W2 , b2)"
   ]
  },
  {
   "cell_type": "code",
   "execution_count": 45,
   "metadata": {},
   "outputs": [
    {
     "name": "stdout",
     "output_type": "stream",
     "text": [
      "Prediction:  [8]\n",
      "Label:  8\n"
     ]
    },
    {
     "data": {
      "image/png": "[encoded data removed]",
      "text/plain": [
       "<Figure size 432x288 with 1 Axes>"
      ]
     },
     "metadata": {
      "needs_background": "light"
     },
     "output_type": "display_data"
    }
   ],
   "source": [
    "test_prediction(26 , W1 , b1 , W2 , b2)"
   ]
  },
  {
   "cell_type": "code",
   "execution_count": 46,
   "metadata": {},
   "outputs": [
    {
     "name": "stdout",
     "output_type": "stream",
     "text": [
      "Prediction:  [2]\n",
      "Label:  2\n"
     ]
    },
    {
     "data": {
      "image/png": "[encoded data removed]",
      "text/plain": [
       "<Figure size 432x288 with 1 Axes>"
      ]
     },
     "metadata": {
      "needs_background": "light"
     },
     "output_type": "display_data"
    }
   ],
   "source": [
    "test_prediction(14 , W1 , b1 , W2 , b2)"
   ]
  },
  {
   "cell_type": "code",
   "execution_count": 47,
   "metadata": {},
   "outputs": [
    {
     "name": "stdout",
     "output_type": "stream",
     "text": [
      "Prediction:  [3]\n",
      "Label:  3\n"
     ]
    },
    {
     "data": {
      "image/png": "[encoded data removed]",
      "text/plain": [
       "<Figure size 432x288 with 1 Axes>"
      ]
     },
     "metadata": {
      "needs_background": "light"
     },
     "output_type": "display_data"
    }
   ],
   "source": [
    "test_prediction(145 , W1 , b1 , W2 , b2)"
   ]
  },
  {
   "cell_type": "code",
   "execution_count": 48,
   "metadata": {},
   "outputs": [
    {
     "name": "stdout",
     "output_type": "stream",
     "text": [
      "Prediction:  [4]\n",
      "Label:  4\n"
     ]
    },
    {
     "data": {
      "image/png": "[encoded data removed]",
      "text/plain": [
       "<Figure size 432x288 with 1 Axes>"
      ]
     },
     "metadata": {
      "needs_background": "light"
     },
     "output_type": "display_data"
    }
   ],
   "source": [
    "test_prediction(12 , W1 , b1 , W2 , b2)"
   ]
  },
  {
   "cell_type": "code",
   "execution_count": null,
   "metadata": {},
   "outputs": [],
   "source": [
    "#Hah ! Awesome , espessialy if you remember that we done it from scratch!\n",
    "#So...The time has come.. Let's check how our network will behave on test data set"
   ]
  },
  {
   "cell_type": "code",
   "execution_count": 49,
   "metadata": {},
   "outputs": [
    {
     "name": "stdout",
     "output_type": "stream",
     "text": [
      "[6 6 3 6 3 1 3 0 2 1 5 9 8 4 6 6 1 6 1 3 0 4 4 4 2 5 9 1 0 7 0 0 2 5 2 7 2\n",
      " 5 9 6 3 3 9 5 4 0 2 0 7 7 2 9 1 9 7 4 3 1 2 5 3 6 2 3 6 6 9 3 4 7 8 0 6 6\n",
      " 5 6 8 4 0 2 5 9 4 9 3 3 2 6 6 3 0 1 5 3 6 4 6 8 3 2 3 4 4 3 8 7 4 9 7 4 3\n",
      " 1 5 3 5 8 4 8 3 9 4 7 7 5 8 0 0 1 5 0 7 9 1 9 6 6 2 6 4 3 2 7 2 4 0 8 8 6\n",
      " 3 1 6 3 3 9 9 9 7 4 3 6 8 7 6 0 1 7 1 7 7 6 0 9 9 8 5 0 8 0 8 1 0 3 9 1 8\n",
      " 6 6 0 7 5 9 4 1 7 9 3 9 1 2 0 3 2 9 7 0 6 8 6 4 7 6 8 5 2 5 1 8 7 8 2 2 8\n",
      " 6 3 8 6 6 8 8 4 1 8 6 4 2 2 6 9 1 1 5 1 0 7 1 1 9 1 3 7 0 0 7 4 7 9 9 0 4\n",
      " 7 0 5 6 1 8 0 1 1 0 1 5 5 3 5 3 1 7 6 2 9 6 3 4 0 2 4 1 2 9 6 7 2 3 9 8 2\n",
      " 8 1 2 4 4 9 1 8 7 2 6 7 7 7 1 7 3 0 6 0 2 7 5 6 1 9 6 7 6 2 0 9 9 7 1 3 6\n",
      " 7 4 7 0 6 8 1 4 7 8 8 2 1 7 8 6 6 2 7 8 5 5 1 5 3 0 6 0 1 4 9 1 2 2 9 2 2\n",
      " 3 7 4 7 3 7 4 3 6 8 1 8 6 5 8 5 5 6 4 2 0 6 6 4 1 7 2 9 8 9 4 9 9 3 1 0 7\n",
      " 7 1 3 4 9 6 4 0 4 4 0 2 4 2 0 3 7 8 6 0 6 5 4 8 5 7 5 2 1 6 1 0 0 8 5 2 1\n",
      " 1 4 3 2 8 5 2 0 6 8 4 4 8 1 4 3 5 9 8 8 5 4 4 7 9 4 5 9 5 3 3 0 2 7 1 8 7\n",
      " 3 3 2 9 9 0 4 3 0 7 0 2 2 4 4 3 2 6 4 4 7 4 8 0 6 5 6 4 3 2 6 7 6 0 7 5 1\n",
      " 2 5 1 7 7 7 9 1 1 8 7 8 8 7 3 4 3 0 9 1 1 8 2 0 2 3 3 5 1 1 3 1 4 1 1 4 4\n",
      " 2 1 9 1 9 8 4 2 5 8 2 7 5 6 4 3 1 5 0 2 1 9 3 4 0 9 3 4 4 1 3 8 9 8 4 4 6\n",
      " 0 6 9 8 7 7 3 9 7 1 3 3 6 6 7 1 6 3 1 6 1 7 7 7 0 2 2 8 7 0 4 7 8 1 5 8 4\n",
      " 1 2 3 2 8 6 8 7 3 2 5 7 3 1 4 6 8 2 0 6 2 6 1 4 0 9 6 4 0 7 8 5 7 5 5 8 0\n",
      " 0 9 9 7 4 9 8 0 6 1 6 1 1 1 5 5 7 1 1 4 3 0 9 1 9 8 6 5 2 3 6 8 8 4 1 9 6\n",
      " 2 5 2 4 3 4 9 5 4 1 4 6 1 2 0 1 9 1 0 6 9 0 9 7 3 4 9 1 5 2 3 8 0 5 7 4 0\n",
      " 9 3 1 2 1 2 8 6 2 7 3 5 5 9 9 8 4 7 4 8 6 8 2 2 6 1 4 5 0 0 9 9 5 8 0 3 8\n",
      " 7 7 9 2 1 0 1 6 5 0 2 3 2 5 1 0 0 7 6 3 1 1 6 6 9 3 5 5 4 6 7 8 1 5 6 7 5\n",
      " 3 0 9 8 0 4 9 5 2 4 8 3 1 7 6 0 2 0 0 5 5 6 1 6 7 3 4 2 5 1 8 6 6 7 7 2 5\n",
      " 2 3 6 9 5 8 0 8 1 8 0 1 1 3 9 2 2 1 3 3 9 1 3 7 4 6 9 8 0 1 4 3 9 2 9 0 2\n",
      " 1 1 1 2 4 1 1 2 3 6 8 6 8 8 1 1 9 9 7 4 7 4 1 2 9 9 3 7 4 6 8 4 2 9 5 7 2\n",
      " 6 8 8 8 8 9 5 1 8 0 7 1 3 3 9 2 7 9 8 0 6 1 2 3 4 6 3 0 9 8 6 5 0 0 6 0 8\n",
      " 7 7 7 6 3 8 4 4 2 7 4 3 8 8 4 9 8 5 0 3 4 4 6 2 4 9 9 4 8 5 3 8 7 8 0 5 2\n",
      " 6] [6 6 8 6 3 1 3 0 2 1 0 9 8 4 4 6 1 6 1 5 0 4 4 4 2 5 9 1 0 7 0 2 2 5 2 7 2\n",
      " 5 9 6 3 3 9 6 4 0 2 0 7 7 2 9 1 9 7 4 3 1 2 5 9 6 2 3 6 6 4 8 4 7 8 0 6 6\n",
      " 5 6 8 4 0 2 5 9 4 2 3 3 2 6 6 3 2 1 9 3 6 4 6 8 3 2 3 4 5 3 2 7 4 9 7 4 3\n",
      " 1 5 3 5 8 4 8 3 9 4 0 7 5 8 0 5 1 4 6 7 9 1 9 6 6 2 2 4 5 2 7 3 4 0 2 8 6\n",
      " 3 1 4 3 3 9 9 9 7 2 3 6 8 7 8 0 1 7 1 7 7 3 0 9 9 8 8 0 8 0 8 1 0 1 9 1 2\n",
      " 6 6 0 3 5 5 4 1 9 9 3 9 1 2 5 3 2 9 7 2 6 8 6 4 7 6 8 0 2 5 1 5 7 8 2 2 8\n",
      " 4 5 8 6 6 5 8 4 1 8 6 4 2 2 6 9 4 1 5 1 0 7 1 1 7 1 3 7 0 3 7 4 7 9 9 0 9\n",
      " 7 0 8 4 8 8 0 8 1 0 1 5 5 3 5 1 1 7 6 2 9 6 3 4 0 2 4 1 8 7 3 7 2 3 9 8 2\n",
      " 8 1 2 4 4 7 1 4 7 2 6 7 7 4 1 7 3 0 6 0 2 7 8 6 1 7 6 7 6 2 0 9 4 7 1 3 6\n",
      " 7 4 7 0 6 8 1 4 7 8 8 2 7 7 8 6 6 2 7 8 5 3 1 5 3 0 6 0 1 5 9 1 2 2 9 2 2\n",
      " 3 9 4 7 3 9 4 3 6 8 1 8 6 5 8 5 5 6 4 2 4 6 6 4 1 7 2 9 8 9 4 9 9 3 1 0 7\n",
      " 7 1 3 4 4 6 4 0 9 4 0 2 4 2 0 3 7 8 6 0 6 8 4 8 5 7 5 2 8 6 2 5 0 3 5 2 1\n",
      " 8 4 3 5 8 5 2 0 5 8 4 4 8 1 4 3 5 9 8 8 1 9 2 7 9 4 5 5 5 3 3 0 2 7 1 8 7\n",
      " 3 3 2 9 9 0 4 3 0 7 0 2 2 4 4 3 2 6 4 4 7 9 8 0 4 5 6 9 3 6 6 7 6 0 7 5 8\n",
      " 8 5 1 7 7 3 9 1 1 8 3 8 8 7 5 9 3 0 9 1 1 8 2 0 2 3 3 5 1 1 1 1 4 1 1 4 4\n",
      " 2 1 9 1 9 5 4 2 5 8 2 7 5 6 4 3 1 5 0 4 1 9 8 4 0 9 3 4 9 1 3 8 9 8 4 4 6\n",
      " 0 6 9 8 7 7 3 9 7 1 3 3 6 6 7 1 6 3 2 6 1 7 7 7 0 2 2 8 7 0 4 7 8 1 5 8 4\n",
      " 1 2 3 2 8 6 8 7 3 2 5 7 3 1 4 0 3 2 0 6 2 6 1 4 0 3 6 4 0 7 8 6 7 5 9 8 0\n",
      " 0 9 9 7 4 9 8 0 6 1 6 1 8 1 6 5 7 1 1 4 3 0 9 1 9 8 6 5 2 3 6 8 8 9 1 9 6\n",
      " 2 5 1 4 3 4 9 5 4 1 4 6 1 2 0 1 9 1 0 6 9 8 9 9 3 4 9 1 8 2 3 8 8 5 7 2 0\n",
      " 9 3 1 2 1 2 8 6 2 7 3 5 5 9 9 8 4 7 4 9 6 8 2 7 6 1 4 5 0 0 9 9 5 8 0 3 8\n",
      " 7 7 9 2 1 0 1 6 5 3 2 9 2 6 1 0 0 7 6 8 1 1 6 6 9 3 5 5 4 6 7 8 1 5 6 7 5\n",
      " 3 0 9 5 2 4 9 5 2 4 8 3 1 7 6 0 2 0 0 5 5 6 1 6 7 2 4 2 5 1 8 6 0 7 7 2 0\n",
      " 2 7 6 7 5 8 0 5 1 8 0 1 1 3 4 2 2 1 3 3 9 1 8 7 4 6 9 8 0 1 9 3 4 2 9 0 2\n",
      " 1 1 1 2 4 3 1 2 3 6 8 6 8 2 1 1 9 9 2 4 7 4 1 2 5 8 3 7 6 6 8 4 2 9 3 7 2\n",
      " 6 8 8 8 8 9 3 1 8 0 9 1 3 3 9 2 7 7 8 2 6 1 2 3 4 6 3 0 4 8 5 5 0 0 6 0 8\n",
      " 3 9 7 6 3 5 4 9 2 7 4 3 8 8 4 9 4 5 0 3 4 4 6 5 9 9 9 4 8 5 3 5 7 8 0 5 2\n",
      " 6]\n"
     ]
    },
    {
     "data": {
      "text/plain": [
       "0.854"
      ]
     },
     "execution_count": 49,
     "metadata": {},
     "output_type": "execute_result"
    }
   ],
   "source": [
    "dev_predictions = make_predictions(X_dev, W1, b1, W2, b2)\n",
    "get_accuracy(dev_predictions, Y_dev)"
   ]
  },
  {
   "cell_type": "code",
   "execution_count": null,
   "metadata": {},
   "outputs": [],
   "source": [
    "#This is pretty good result cause we have not used any of regularization methods. "
   ]
  }
 ],
 "metadata": {
  "interpreter": {
   "hash": "83070353de7b838c881fcf489bab87799e15f932e883db0d2c02d99f12a85928"
  },
  "kernelspec": {
   "display_name": "Python 3.10.1 64-bit",
   "language": "python",
   "name": "python3"
  },
  "language_info": {
   "codemirror_mode": {
    "name": "ipython",
    "version": 3
   },
   "file_extension": ".py",
   "mimetype": "text/x-python",
   "name": "python",
   "nbconvert_exporter": "python",
   "pygments_lexer": "ipython3",
   "version": "3.10.1"
  },
  "orig_nbformat": 4
 },
 "nbformat": 4,
 "nbformat_minor": 2
}
